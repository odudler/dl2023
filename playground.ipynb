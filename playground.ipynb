{
 "cells": [
  {
   "cell_type": "markdown",
   "metadata": {},
   "source": [
    "# Playground for testing and trying stuff\n",
    "### NOTE: Code in this file is not meant to be persistant or important"
   ]
  },
  {
   "cell_type": "code",
   "execution_count": 1,
   "metadata": {},
   "outputs": [],
   "source": [
    "#Imports\n",
    "import gym\n",
    "from gym.spaces import Space\n",
    "import torch\n",
    "from collections import namedtuple\n",
    "from dataclasses import dataclass\n",
    "from typing import List, Tuple, Dict, Callable, Any\n",
    "from board import ConnectFourField\n",
    "import random\n",
    "import matplotlib.pyplot as plt\n",
    "\n",
    "# Local imports\n",
    "from board import ConnectFourField\n",
    "from env import Env\n",
    "from random_agent import RandomAgent\n",
    "from deep_q_agent import DeepQAgent\n",
    "import utils"
   ]
  },
  {
   "cell_type": "code",
   "execution_count": 8,
   "metadata": {},
   "outputs": [
    {
     "data": {
      "image/png": "[encoded data removed]",
      "text/plain": [
       "<Figure size 360x432 with 1 Axes>"
      ]
     },
     "metadata": {},
     "output_type": "display_data"
    }
   ],
   "source": [
    "import numpy as np\n",
    "import matplotlib.pyplot as plt\n",
    "\n",
    "def plot_connect_four_board(field):\n",
    "    num_rows, num_columns = np.shape(field)\n",
    "\n",
    "    # Set up the figure and axis\n",
    "    fig, ax = plt.subplots(figsize=(num_columns, num_rows))\n",
    "    \n",
    "    # Set background color\n",
    "    ax.set_facecolor('lightblue')\n",
    "\n",
    "    # Plot gridlines\n",
    "    for i in range(num_rows + 1):\n",
    "        ax.axhline(i, color='white', linewidth=2)\n",
    "\n",
    "    for j in range(num_columns + 1):\n",
    "        ax.axvline(j, color='white', linewidth=2)\n",
    "\n",
    "    # Plot chips\n",
    "    for i in range(num_rows):\n",
    "        for j in range(num_columns):\n",
    "            if field[i, j] == 1:\n",
    "                # Yellow chip\n",
    "                ax.add_patch(plt.Circle((j + 0.5, i + 0.5), 0.4, color='yellow'))\n",
    "            elif field[i, j] == 2:\n",
    "                # Red chip\n",
    "                ax.add_patch(plt.Circle((j + 0.5, i + 0.5), 0.4, color='red'))\n",
    "\n",
    "    # Set axis limits and remove ticks\n",
    "    ax.set_xlim(0, num_columns)\n",
    "    ax.set_ylim(0, num_rows)\n",
    "    ax.set_xticks([])\n",
    "    ax.set_yticks([])\n",
    "\n",
    "    # Display the plot\n",
    "    plt.show()\n",
    "\n",
    "# Example usage:\n",
    "field_example = np.array([\n",
    "    [0, 0, 0, 0, 0],\n",
    "    [0, 0, 0, 0, 0],\n",
    "    [0, 1, 2, 0, 0],\n",
    "    [0, 2, 1, 0, 0],\n",
    "    [0, 1, 2, 0, 0],\n",
    "    [0, 0, 0, 0, 0]\n",
    "])\n",
    "\n",
    "plot_connect_four_board(field_example)\n"
   ]
  },
  {
   "cell_type": "code",
   "execution_count": 1,
   "metadata": {},
   "outputs": [
    {
     "name": "stderr",
     "output_type": "stream",
     "text": [
      "/var/folders/3m/bxnkpgpj2vx459g1fn11jk400000gn/T/ipykernel_80192/3963832255.py:28: UserWarning: Setting the 'color' property will override the edgecolor or facecolor properties.\n",
      "  ax.add_patch(plt.Circle((j + 0.5, i + 0.5), 0.4, color='yellow', edgecolor='black', linewidth=2))\n",
      "/var/folders/3m/bxnkpgpj2vx459g1fn11jk400000gn/T/ipykernel_80192/3963832255.py:31: UserWarning: Setting the 'color' property will override the edgecolor or facecolor properties.\n",
      "  ax.add_patch(plt.Circle((j + 0.5, i + 0.5), 0.4, color='red', edgecolor='black', linewidth=2))\n"
     ]
    },
    {
     "data": {
      "image/png": "[encoded data removed]",
      "text/plain": [
       "<Figure size 360x432 with 1 Axes>"
      ]
     },
     "metadata": {},
     "output_type": "display_data"
    }
   ],
   "source": [
    "import numpy as np\n",
    "import matplotlib.pyplot as plt\n",
    "\n",
    "def plot_connect_four_board(field, start_row, start_col, end_row, end_col):\n",
    "    # Flip the board horizontally\n",
    "    field_flipped = np.flipud(field)\n",
    "\n",
    "    num_rows, num_columns = np.shape(field_flipped)\n",
    "\n",
    "    # Set up the figure and axis\n",
    "    fig, ax = plt.subplots(figsize=(num_columns, num_rows))\n",
    "    \n",
    "    # Set background color\n",
    "    ax.set_facecolor('lightblue')\n",
    "\n",
    "    # Plot gridlines\n",
    "    for i in range(num_rows + 1):\n",
    "        ax.axhline(i, color='white', linewidth=2)\n",
    "\n",
    "    for j in range(num_columns + 1):\n",
    "        ax.axvline(j, color='white', linewidth=2)\n",
    "\n",
    "    # Plot chips\n",
    "    for i in range(num_rows):\n",
    "        for j in range(num_columns):\n",
    "            if field_flipped[i, j] == 1:\n",
    "                # Yellow chip\n",
    "                ax.add_patch(plt.Circle((j + 0.5, i + 0.5), 0.4, color='yellow', edgecolor='black', linewidth=2))\n",
    "            elif field_flipped[i, j] == 2:\n",
    "                # Red chip\n",
    "                ax.add_patch(plt.Circle((j + 0.5, i + 0.5), 0.4, color='red', edgecolor='black', linewidth=2))\n",
    "\n",
    "    # Draw line between specified grid cells\n",
    "    ax.plot([start_col + 0.5, end_col + 0.5], [start_row + 0.5, end_row + 0.5], color='white', linewidth=2)\n",
    "\n",
    "    # Set axis limits and remove ticks\n",
    "    ax.set_xlim(0, num_columns)\n",
    "    ax.set_ylim(0, num_rows)\n",
    "    ax.set_xticks([])\n",
    "    ax.set_yticks([])\n",
    "\n",
    "    # Display the plot\n",
    "    plt.show()\n",
    "\n",
    "# Example usage:\n",
    "field_example = np.array([\n",
    "    [0, 0, 0, 0, 0],\n",
    "    [0, 0, 0, 0, 0],\n",
    "    [0, 1, 2, 0, 0],\n",
    "    [0, 2, 1, 0, 0],\n",
    "    [0, 1, 2, 0, 0],\n",
    "    [0, 0, 0, 0, 0]\n",
    "])\n",
    "\n",
    "# Draw a line from (1, 1) to (4, 3)\n",
    "plot_connect_four_board(field_example, 1, 1, 4, 3)\n"
   ]
  }
 ],
 "metadata": {
  "kernelspec": {
   "display_name": "Python 3",
   "language": "python",
   "name": "python3"
  },
  "language_info": {
   "codemirror_mode": {
    "name": "ipython",
    "version": 3
   },
   "file_extension": ".py",
   "mimetype": "text/x-python",
   "name": "python",
   "nbconvert_exporter": "python",
   "pygments_lexer": "ipython3",
   "version": "3.9.7"
  },
  "orig_nbformat": 4
 },
 "nbformat": 4,
 "nbformat_minor": 2
}

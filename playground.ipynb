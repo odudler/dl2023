{
 "cells": [
  {
   "cell_type": "markdown",
   "metadata": {},
   "source": [
    "# Playground for testing and trying stuff\n",
    "### NOTE: Code in this file is not meant to be persistant or important"
   ]
  },
  {
   "cell_type": "code",
   "execution_count": null,
   "metadata": {},
   "outputs": [],
   "source": [
    "#Imports\n",
    "from collections import namedtuple\n",
    "from dataclasses import dataclass\n",
    "from typing import List, Tuple, Dict, Callable, Any\n",
    "from board import ConnectFourField\n",
    "import random\n",
    "import matplotlib.pyplot as plt\n",
    "\n",
    "# Local imports\n",
    "from env import Env\n",
    "from agents.minimax_agent import MinimaxAgent\n",
    "import utils\n",
    "import copy\n"
   ]
  },
  {
   "cell_type": "code",
   "execution_count": null,
   "metadata": {},
   "outputs": [],
   "source": [
    "finished = -1\n",
    "env = Env()\n",
    "agent = MinimaxAgent(env, epsilon=0.3)\n",
    "opponent = MinimaxAgent(env, epsilon=0.3)\n",
    "mini_won = 0\n",
    "mini_lost = 0\n",
    "mini_tie = 0\n",
    "for epi in range(0,50):\n",
    "    finished = -1\n",
    "    env.reset()\n",
    "    while finished == -1:\n",
    "\n",
    "        action = agent.act(env.field)\n",
    "        valid, reward, finished = env.step(action, 1)\n",
    "        #env.render_pretty()\n",
    "\n",
    "\n",
    "        if finished != -1:\n",
    "            break\n",
    "\n",
    "        action = opponent.act(env.field)\n",
    "        #action = opponent.act(env.get_state())\n",
    "        valid, reward, finished = env.step(action, 2)\n",
    "        #env.render_pretty()\n",
    "\n",
    "        \n",
    "    env.render_pretty()\n",
    "    if finished == 1:\n",
    "        mini_won+=1\n",
    "    elif finished == 2:\n",
    "        mini_lost += 1\n",
    "    else: mini_tie += 1\n",
    "\n",
    "print(f\"Won {mini_won}, Lost: {mini_lost}, Tie: {mini_tie}\")\n",
    "    \n",
    "\n"
   ]
  }
 ],
 "metadata": {
  "kernelspec": {
   "display_name": "Python 3",
   "language": "python",
   "name": "python3"
  },
  "language_info": {
   "codemirror_mode": {
    "name": "ipython",
    "version": 3
   },
   "file_extension": ".py",
   "mimetype": "text/x-python",
   "name": "python",
   "nbconvert_exporter": "python",
   "pygments_lexer": "ipython3",
   "version": "3.9.7"
  },
  "orig_nbformat": 4
 },
 "nbformat": 4,
 "nbformat_minor": 2
}
